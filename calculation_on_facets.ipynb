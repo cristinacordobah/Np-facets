{
 "cells": [
  {
   "cell_type": "markdown",
   "id": "f486f468-c197-4474-a913-072c11494e30",
   "metadata": {},
   "source": [
    "# Calculation on facets #"
   ]
  },
  {
   "cell_type": "code",
   "execution_count": 3,
   "id": "27e3aba3-423e-4a56-8ab7-8ef9beef4627",
   "metadata": {},
   "outputs": [],
   "source": [
    "import numpy as np"
   ]
  },
  {
   "cell_type": "code",
   "execution_count": 4,
   "id": "b57796f5-133a-4b92-a54a-1730c36613eb",
   "metadata": {},
   "outputs": [],
   "source": [
    "candidate_plane_1 = (1, 1, 1) # Obtained from x-ray diffraction"
   ]
  },
  {
   "cell_type": "markdown",
   "id": "deceb2a5-9b73-4a43-b30a-164b6a18957f",
   "metadata": {},
   "source": [
    "According Eq. 5, the facet corresponding to \n",
    "the crystallographic plane $(h_3, k_3, l_3)$, must satisfy \n",
    "$h_3+k_3+l_3 = 0$. We consider by brute force all possible planes \n",
    "$(h_3, k_3, l_3)$ subject to the condition $h_3+k_3+l_3 = 0$ for Miller indices \n",
    "greater than $-3$ and less than $3$."
   ]
  },
  {
   "cell_type": "code",
   "execution_count": 21,
   "id": "e0ee36d9-166d-4ff0-8ce6-ab0c04cc3f33",
   "metadata": {},
   "outputs": [],
   "source": [
    "def miller_idx_is_even(miller_idx):\n",
    "    result = ((miller_idx % 2) == 0)\n",
    "    return result\n",
    "\n",
    "def miller_idx_is_odd(miller_idx):\n",
    "    result = ((miller_idx % 2) == 1)\n",
    "    return result\n",
    "\n",
    "def all_miller_indices_are_even(plane):\n",
    "    h, k, l = plane\n",
    "    if (miller_idx_is_even(h)\n",
    "        and miller_idx_is_even(k)\n",
    "        and miller_idx_is_even(l)):\n",
    "        result = True\n",
    "    else:\n",
    "        result = False\n",
    "    return result\n",
    "\n",
    "def all_miller_indices_are_odd(plane):\n",
    "    h, k, l = plane\n",
    "    if (miller_idx_is_odd(h)\n",
    "        and miller_idx_is_odd(k)\n",
    "        and miller_idx_is_odd(l)):\n",
    "        result = True\n",
    "    else:\n",
    "        result = False\n",
    "    return result\n",
    "\n",
    "def plane_is_a_fcc_plane(plane):\n",
    "    h, k, l = plane\n",
    "    if (h == 0) and (k == 0) and (l == 0):\n",
    "        result = False\n",
    "    else:\n",
    "        if (all_miller_indices_are_even(plane)\n",
    "            or all_miller_indices_are_odd(plane)):\n",
    "            result = True\n",
    "        else:\n",
    "            result = False\n",
    "        return result\n",
    "    \n",
    "def plane_is_a_candidate_for_plane_3(plane):\n",
    "    if plane_is_a_fcc_plane(plane) and (sum(plane) == 0):\n",
    "        result = True\n",
    "    else:\n",
    "        result = False\n",
    "    return result"
   ]
  },
  {
   "cell_type": "code",
   "execution_count": 30,
   "id": "75222166-95cd-499a-87fa-0f855478fb9c",
   "metadata": {},
   "outputs": [
    {
     "name": "stdout",
     "output_type": "stream",
     "text": [
      "[(-2, 0, 2), (-2, 2, 0), (0, -2, 2), (0, 2, -2), (2, -2, 0), (2, 0, -2)]\n"
     ]
    }
   ],
   "source": [
    "max_miller_idx = 2\n",
    "\n",
    "min_miller_idx = -max_miller_idx\n",
    "candidate_subset_for_plane_3 = []\n",
    "\n",
    "for h in range(min_miller_idx, max_miller_idx+1):\n",
    "    for k in range(min_miller_idx, max_miller_idx+1):\n",
    "        for l in range(min_miller_idx, max_miller_idx+1):\n",
    "            plane = (h, k, l)\n",
    "            if plane_is_a_candidate_for_plane_3(plane):\n",
    "                candidate_subset_for_plane_3.append(plane)\n",
    "\n",
    "print(candidate_subset_for_plane_3)"
   ]
  },
  {
   "cell_type": "markdown",
   "id": "ccdf094f-93c0-41e8-8c7b-f9b304eaba43",
   "metadata": {},
   "source": [
    "The facet that corresponds to the crystallographic plane $(h_2, k_2, l_2)$, cannot be parallel to either\n",
    "plane $(h_1, k_1, l_1)$ or $(h_3, k_3, l_3)$. We consider by brute force all possible planes to fullfill this \n",
    "condition for Miller indices greater than $-3$ and less than $3$."
   ]
  },
  {
   "cell_type": "code",
   "execution_count": 23,
   "id": "d12f6af0-e4a9-4a58-a1b2-ed3c152137dc",
   "metadata": {},
   "outputs": [],
   "source": [
    "def plane_is_not_a_candidate_for_plane_1(plane):\n",
    "    h, k, l = plane\n",
    "    if h == k == l:\n",
    "        result = False\n",
    "    else:\n",
    "        result = True\n",
    "    return result\n",
    "\n",
    "def plane_is_not_a_candidate_for_plane_3(plane):\n",
    "    result = (not plane_is_a_candidate_for_plane_3(plane))\n",
    "    return result\n",
    "\n",
    "def plane_is_a_candidate_for_plane_2(plane):\n",
    "    if (plane_is_not_a_candidate_for_plane_1(plane)\n",
    "        and plane_is_not_a_candidate_for_plane_3(plane) \n",
    "        and plane_is_a_fcc_plane(plane)):\n",
    "        result = True  # Therefore plane 2 is not parallel to plane 1 nor 3.\n",
    "    else:\n",
    "        result = False\n",
    "    return result"
   ]
  },
  {
   "cell_type": "code",
   "execution_count": 24,
   "id": "587801c7-51b7-4ef6-8c32-9edd6cc4c2aa",
   "metadata": {},
   "outputs": [
    {
     "data": {
      "text/plain": [
       "[(-2, -2, 0),\n",
       " (-2, -2, 2),\n",
       " (-2, 0, -2),\n",
       " (-2, 0, 0),\n",
       " (-2, 2, -2),\n",
       " (-2, 2, 2),\n",
       " (-1, -1, 1),\n",
       " (-1, 1, -1),\n",
       " (-1, 1, 1),\n",
       " (0, -2, -2),\n",
       " (0, -2, 0),\n",
       " (0, 0, -2),\n",
       " (0, 0, 2),\n",
       " (0, 2, 0),\n",
       " (0, 2, 2),\n",
       " (1, -1, -1),\n",
       " (1, -1, 1),\n",
       " (1, 1, -1),\n",
       " (2, -2, -2),\n",
       " (2, -2, 2),\n",
       " (2, 0, 0),\n",
       " (2, 0, 2),\n",
       " (2, 2, -2),\n",
       " (2, 2, 0)]"
      ]
     },
     "execution_count": 24,
     "metadata": {},
     "output_type": "execute_result"
    }
   ],
   "source": [
    "candidate_subset_for_plane_2 = []\n",
    "\n",
    "for h in range(min_miller_idx, max_miller_idx+1):\n",
    "    for k in range(min_miller_idx, max_miller_idx+1):\n",
    "        for l in range(min_miller_idx, max_miller_idx+1):\n",
    "            plane = (h, k, l)\n",
    "            if plane_is_a_candidate_for_plane_2(plane):\n",
    "                candidate_subset_for_plane_2.append(plane)\n",
    "\n",
    "candidate_subset_for_plane_2"
   ]
  },
  {
   "cell_type": "markdown",
   "id": "5fd7baf7",
   "metadata": {},
   "source": [
    "Here we calculate the sum of cosines of interfacial angles for all candidates of\n",
    "$(h_2, k_2, l_2)$ and $(h_3, k_3, l_3)$ and check whether the sum is equal to $1$ (see Eq. 7)."
   ]
  },
  {
   "cell_type": "code",
   "execution_count": 32,
   "id": "a067d6d9-0443-427e-a5f3-f054b9b465d0",
   "metadata": {},
   "outputs": [],
   "source": [
    "def square_of_cosine_of_interfacial_angle(plane_A, plane_B):\n",
    "    result = (np.dot(plane_A, plane_B)**2/ np.dot(plane_A, plane_A)\n",
    "              / np.dot(plane_B, plane_B))\n",
    "    return result\n",
    "\n",
    "def sum_of_cosines_of_interfacial_angles(plane_1, plane_2, plane_3):\n",
    "    result = (square_of_cosine_of_interfacial_angle(plane_1, plane_2)\n",
    "              + square_of_cosine_of_interfacial_angle(plane_2, plane_3))\n",
    "    return result\n",
    "\n",
    "def sum_of_cosines_of_interfacial_angles_is_equal_to_unity(plane_1, \n",
    "                                                           plane_2, \n",
    "                                                           plane_3):\n",
    "    tolerance = 1.0e-10 # Comparing floats\n",
    "\n",
    "    if abs(1-sum_of_cosines_of_interfacial_angles(plane_1, plane_2, plane_3)) < tolerance:\n",
    "        result = True \n",
    "    else:\n",
    "        result = False\n",
    "    return result"
   ]
  },
  {
   "cell_type": "code",
   "execution_count": 33,
   "id": "b8c386ed-2132-4866-9afb-dd74a62f7381",
   "metadata": {},
   "outputs": [
    {
     "name": "stdout",
     "output_type": "stream",
     "text": [
      "The number of cases considered where the sum of cosines of interfacial angles is equal to 1: 0\n"
     ]
    }
   ],
   "source": [
    "num_cases_where_sum_of_cosines_equals_unity = 0\n",
    "\n",
    "for candidate_plane_2 in candidate_subset_for_plane_2:\n",
    "    for candidate_plane_3 in candidate_subset_for_plane_3:\n",
    "        tolerance = 1.0e-10\n",
    "      \n",
    "        if sum_of_cosines_of_interfacial_angles_is_equal_to_unity(candidate_plane_1,\n",
    "                                                                  candidate_plane_2,\n",
    "                                                                  candidate_plane_3):\n",
    "            num_cases_where_sum_of_cosines_equals_unity += 1\n",
    "            unformatted_msg = (\"The sum of cosines of interfacial angles is \"\n",
    "                               \"equal to 1 for:\\n\"\n",
    "                               \"    plane_1: ({}, {}, {})\\n\"\n",
    "                               \"    plane_2: ({}, {}, {})\\n\"\n",
    "                               \"    plane_3: ({}, {}, {})\\n\\n\\n\")\n",
    "            msg = unformatted_msg.format(*candidate_plane_1, \n",
    "                                         *candidate_plane_2, \n",
    "                                         *candidate_plane_3)\n",
    "            print(msg)\n",
    "\n",
    "unformatted_msg = (\"The number of cases considered where the sum of cosines of \"\n",
    "                   \"interfacial angles is equal to 1: {}\")\n",
    "msg = unformatted_msg.format(num_cases_where_sum_of_cosines_equals_unity)\n",
    "print(msg)"
   ]
  },
  {
   "cell_type": "code",
   "execution_count": null,
   "id": "ef44c262",
   "metadata": {},
   "outputs": [],
   "source": []
  }
 ],
 "metadata": {
  "kernelspec": {
   "display_name": "Python 3 (ipykernel)",
   "language": "python",
   "name": "python3"
  },
  "language_info": {
   "codemirror_mode": {
    "name": "ipython",
    "version": 3
   },
   "file_extension": ".py",
   "mimetype": "text/x-python",
   "name": "python",
   "nbconvert_exporter": "python",
   "pygments_lexer": "ipython3",
   "version": "3.9.13"
  }
 },
 "nbformat": 4,
 "nbformat_minor": 5
}
